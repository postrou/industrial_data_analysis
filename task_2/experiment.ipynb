{
 "cells": [
  {
   "cell_type": "markdown",
   "metadata": {},
   "source": [
    "# Эксперимент"
   ]
  },
  {
   "cell_type": "markdown",
   "metadata": {},
   "source": [
    "## Импорт модулей"
   ]
  },
  {
   "cell_type": "code",
   "execution_count": 1,
   "metadata": {},
   "outputs": [],
   "source": [
    "import numpy as np\n",
    "import pandas as pd\n",
    "from sklearn.model_selection import train_test_split"
   ]
  },
  {
   "cell_type": "code",
   "execution_count": 2,
   "metadata": {},
   "outputs": [],
   "source": [
    "%load_ext autoreload"
   ]
  },
  {
   "cell_type": "code",
   "execution_count": 3,
   "metadata": {},
   "outputs": [],
   "source": [
    "from model import RegressionModel\n",
    "# %aimport model"
   ]
  },
  {
   "cell_type": "code",
   "execution_count": 4,
   "metadata": {},
   "outputs": [],
   "source": [
    "%autoreload 2"
   ]
  },
  {
   "cell_type": "markdown",
   "metadata": {},
   "source": [
    "## Подготовка данных"
   ]
  },
  {
   "cell_type": "code",
   "execution_count": 5,
   "metadata": {},
   "outputs": [],
   "source": [
    "data = pd.read_csv('regression.csv')"
   ]
  },
  {
   "cell_type": "code",
   "execution_count": 6,
   "metadata": {},
   "outputs": [
    {
     "data": {
      "text/html": [
       "<div>\n",
       "<style scoped>\n",
       "    .dataframe tbody tr th:only-of-type {\n",
       "        vertical-align: middle;\n",
       "    }\n",
       "\n",
       "    .dataframe tbody tr th {\n",
       "        vertical-align: top;\n",
       "    }\n",
       "\n",
       "    .dataframe thead th {\n",
       "        text-align: right;\n",
       "    }\n",
       "</style>\n",
       "<table border=\"1\" class=\"dataframe\">\n",
       "  <thead>\n",
       "    <tr style=\"text-align: right;\">\n",
       "      <th></th>\n",
       "      <th>Unnamed: 0</th>\n",
       "      <th>0</th>\n",
       "      <th>1</th>\n",
       "      <th>2</th>\n",
       "      <th>3</th>\n",
       "      <th>4</th>\n",
       "      <th>5</th>\n",
       "      <th>6</th>\n",
       "      <th>7</th>\n",
       "      <th>8</th>\n",
       "      <th>9</th>\n",
       "      <th>Y</th>\n",
       "    </tr>\n",
       "  </thead>\n",
       "  <tbody>\n",
       "    <tr>\n",
       "      <th>0</th>\n",
       "      <td>0</td>\n",
       "      <td>0.032878</td>\n",
       "      <td>-0.032184</td>\n",
       "      <td>0.027755</td>\n",
       "      <td>0.162163</td>\n",
       "      <td>-0.027748</td>\n",
       "      <td>-0.036926</td>\n",
       "      <td>0.089348</td>\n",
       "      <td>-0.149173</td>\n",
       "      <td>-0.098144</td>\n",
       "      <td>0.013718</td>\n",
       "      <td>3.257643</td>\n",
       "    </tr>\n",
       "    <tr>\n",
       "      <th>1</th>\n",
       "      <td>1</td>\n",
       "      <td>-0.005346</td>\n",
       "      <td>-0.000247</td>\n",
       "      <td>0.009756</td>\n",
       "      <td>-0.036532</td>\n",
       "      <td>0.000057</td>\n",
       "      <td>0.034341</td>\n",
       "      <td>-0.060020</td>\n",
       "      <td>0.016123</td>\n",
       "      <td>0.087476</td>\n",
       "      <td>-0.030907</td>\n",
       "      <td>0.923062</td>\n",
       "    </tr>\n",
       "    <tr>\n",
       "      <th>2</th>\n",
       "      <td>2</td>\n",
       "      <td>0.015212</td>\n",
       "      <td>-0.023700</td>\n",
       "      <td>0.145926</td>\n",
       "      <td>-0.097527</td>\n",
       "      <td>0.104163</td>\n",
       "      <td>0.088088</td>\n",
       "      <td>0.066595</td>\n",
       "      <td>-0.003328</td>\n",
       "      <td>0.082527</td>\n",
       "      <td>0.054497</td>\n",
       "      <td>11.204583</td>\n",
       "    </tr>\n",
       "    <tr>\n",
       "      <th>3</th>\n",
       "      <td>3</td>\n",
       "      <td>0.017769</td>\n",
       "      <td>0.121157</td>\n",
       "      <td>0.143435</td>\n",
       "      <td>-0.141992</td>\n",
       "      <td>0.037391</td>\n",
       "      <td>0.049239</td>\n",
       "      <td>-0.102537</td>\n",
       "      <td>0.032538</td>\n",
       "      <td>-0.082095</td>\n",
       "      <td>-0.053016</td>\n",
       "      <td>9.166070</td>\n",
       "    </tr>\n",
       "    <tr>\n",
       "      <th>4</th>\n",
       "      <td>4</td>\n",
       "      <td>-0.111732</td>\n",
       "      <td>0.056233</td>\n",
       "      <td>0.045675</td>\n",
       "      <td>-0.036601</td>\n",
       "      <td>0.109740</td>\n",
       "      <td>-0.109546</td>\n",
       "      <td>-0.010672</td>\n",
       "      <td>-0.053661</td>\n",
       "      <td>0.039932</td>\n",
       "      <td>-0.048394</td>\n",
       "      <td>-0.211321</td>\n",
       "    </tr>\n",
       "  </tbody>\n",
       "</table>\n",
       "</div>"
      ],
      "text/plain": [
       "   Unnamed: 0         0         1         2         3         4         5  \\\n",
       "0           0  0.032878 -0.032184  0.027755  0.162163 -0.027748 -0.036926   \n",
       "1           1 -0.005346 -0.000247  0.009756 -0.036532  0.000057  0.034341   \n",
       "2           2  0.015212 -0.023700  0.145926 -0.097527  0.104163  0.088088   \n",
       "3           3  0.017769  0.121157  0.143435 -0.141992  0.037391  0.049239   \n",
       "4           4 -0.111732  0.056233  0.045675 -0.036601  0.109740 -0.109546   \n",
       "\n",
       "          6         7         8         9          Y  \n",
       "0  0.089348 -0.149173 -0.098144  0.013718   3.257643  \n",
       "1 -0.060020  0.016123  0.087476 -0.030907   0.923062  \n",
       "2  0.066595 -0.003328  0.082527  0.054497  11.204583  \n",
       "3 -0.102537  0.032538 -0.082095 -0.053016   9.166070  \n",
       "4 -0.010672 -0.053661  0.039932 -0.048394  -0.211321  "
      ]
     },
     "execution_count": 6,
     "metadata": {},
     "output_type": "execute_result"
    }
   ],
   "source": [
    "data.head()"
   ]
  },
  {
   "cell_type": "code",
   "execution_count": 7,
   "metadata": {},
   "outputs": [
    {
     "data": {
      "text/plain": [
       "Index(['Unnamed: 0', '0', '1', '2', '3', '4', '5', '6', '7', '8', '9', 'Y'], dtype='object')"
      ]
     },
     "execution_count": 7,
     "metadata": {},
     "output_type": "execute_result"
    }
   ],
   "source": [
    "data.columns"
   ]
  },
  {
   "cell_type": "code",
   "execution_count": 8,
   "metadata": {},
   "outputs": [],
   "source": [
    "data.drop(columns='Unnamed: 0', inplace=True)"
   ]
  },
  {
   "cell_type": "code",
   "execution_count": 9,
   "metadata": {},
   "outputs": [
    {
     "data": {
      "text/html": [
       "<div>\n",
       "<style scoped>\n",
       "    .dataframe tbody tr th:only-of-type {\n",
       "        vertical-align: middle;\n",
       "    }\n",
       "\n",
       "    .dataframe tbody tr th {\n",
       "        vertical-align: top;\n",
       "    }\n",
       "\n",
       "    .dataframe thead th {\n",
       "        text-align: right;\n",
       "    }\n",
       "</style>\n",
       "<table border=\"1\" class=\"dataframe\">\n",
       "  <thead>\n",
       "    <tr style=\"text-align: right;\">\n",
       "      <th></th>\n",
       "      <th>0</th>\n",
       "      <th>1</th>\n",
       "      <th>2</th>\n",
       "      <th>3</th>\n",
       "      <th>4</th>\n",
       "      <th>5</th>\n",
       "      <th>6</th>\n",
       "      <th>7</th>\n",
       "      <th>8</th>\n",
       "      <th>9</th>\n",
       "      <th>Y</th>\n",
       "    </tr>\n",
       "  </thead>\n",
       "  <tbody>\n",
       "    <tr>\n",
       "      <th>0</th>\n",
       "      <td>0.032878</td>\n",
       "      <td>-0.032184</td>\n",
       "      <td>0.027755</td>\n",
       "      <td>0.162163</td>\n",
       "      <td>-0.027748</td>\n",
       "      <td>-0.036926</td>\n",
       "      <td>0.089348</td>\n",
       "      <td>-0.149173</td>\n",
       "      <td>-0.098144</td>\n",
       "      <td>0.013718</td>\n",
       "      <td>3.257643</td>\n",
       "    </tr>\n",
       "    <tr>\n",
       "      <th>1</th>\n",
       "      <td>-0.005346</td>\n",
       "      <td>-0.000247</td>\n",
       "      <td>0.009756</td>\n",
       "      <td>-0.036532</td>\n",
       "      <td>0.000057</td>\n",
       "      <td>0.034341</td>\n",
       "      <td>-0.060020</td>\n",
       "      <td>0.016123</td>\n",
       "      <td>0.087476</td>\n",
       "      <td>-0.030907</td>\n",
       "      <td>0.923062</td>\n",
       "    </tr>\n",
       "    <tr>\n",
       "      <th>2</th>\n",
       "      <td>0.015212</td>\n",
       "      <td>-0.023700</td>\n",
       "      <td>0.145926</td>\n",
       "      <td>-0.097527</td>\n",
       "      <td>0.104163</td>\n",
       "      <td>0.088088</td>\n",
       "      <td>0.066595</td>\n",
       "      <td>-0.003328</td>\n",
       "      <td>0.082527</td>\n",
       "      <td>0.054497</td>\n",
       "      <td>11.204583</td>\n",
       "    </tr>\n",
       "    <tr>\n",
       "      <th>3</th>\n",
       "      <td>0.017769</td>\n",
       "      <td>0.121157</td>\n",
       "      <td>0.143435</td>\n",
       "      <td>-0.141992</td>\n",
       "      <td>0.037391</td>\n",
       "      <td>0.049239</td>\n",
       "      <td>-0.102537</td>\n",
       "      <td>0.032538</td>\n",
       "      <td>-0.082095</td>\n",
       "      <td>-0.053016</td>\n",
       "      <td>9.166070</td>\n",
       "    </tr>\n",
       "    <tr>\n",
       "      <th>4</th>\n",
       "      <td>-0.111732</td>\n",
       "      <td>0.056233</td>\n",
       "      <td>0.045675</td>\n",
       "      <td>-0.036601</td>\n",
       "      <td>0.109740</td>\n",
       "      <td>-0.109546</td>\n",
       "      <td>-0.010672</td>\n",
       "      <td>-0.053661</td>\n",
       "      <td>0.039932</td>\n",
       "      <td>-0.048394</td>\n",
       "      <td>-0.211321</td>\n",
       "    </tr>\n",
       "  </tbody>\n",
       "</table>\n",
       "</div>"
      ],
      "text/plain": [
       "          0         1         2         3         4         5         6  \\\n",
       "0  0.032878 -0.032184  0.027755  0.162163 -0.027748 -0.036926  0.089348   \n",
       "1 -0.005346 -0.000247  0.009756 -0.036532  0.000057  0.034341 -0.060020   \n",
       "2  0.015212 -0.023700  0.145926 -0.097527  0.104163  0.088088  0.066595   \n",
       "3  0.017769  0.121157  0.143435 -0.141992  0.037391  0.049239 -0.102537   \n",
       "4 -0.111732  0.056233  0.045675 -0.036601  0.109740 -0.109546 -0.010672   \n",
       "\n",
       "          7         8         9          Y  \n",
       "0 -0.149173 -0.098144  0.013718   3.257643  \n",
       "1  0.016123  0.087476 -0.030907   0.923062  \n",
       "2 -0.003328  0.082527  0.054497  11.204583  \n",
       "3  0.032538 -0.082095 -0.053016   9.166070  \n",
       "4 -0.053661  0.039932 -0.048394  -0.211321  "
      ]
     },
     "execution_count": 9,
     "metadata": {},
     "output_type": "execute_result"
    }
   ],
   "source": [
    "data.head()"
   ]
  },
  {
   "cell_type": "code",
   "execution_count": 10,
   "metadata": {},
   "outputs": [
    {
     "data": {
      "text/plain": [
       "(1000, 11)"
      ]
     },
     "execution_count": 10,
     "metadata": {},
     "output_type": "execute_result"
    }
   ],
   "source": [
    "data.shape"
   ]
  },
  {
   "cell_type": "code",
   "execution_count": 11,
   "metadata": {},
   "outputs": [],
   "source": [
    "X = np.array(data.loc[:, :'Y'])\n",
    "y = np.array(data.loc[:, 'Y'])"
   ]
  },
  {
   "cell_type": "code",
   "execution_count": 12,
   "metadata": {},
   "outputs": [
    {
     "data": {
      "text/plain": [
       "(1000,)"
      ]
     },
     "execution_count": 12,
     "metadata": {},
     "output_type": "execute_result"
    }
   ],
   "source": [
    "y.shape"
   ]
  },
  {
   "cell_type": "markdown",
   "metadata": {},
   "source": [
    "## Разбиение выборки на обучение и тест"
   ]
  },
  {
   "cell_type": "code",
   "execution_count": 23,
   "metadata": {},
   "outputs": [],
   "source": [
    "X_train, X_test, \\\n",
    "y_train, y_test = train_test_split(X, y, test_size=0.4, random_state=12)"
   ]
  },
  {
   "cell_type": "code",
   "execution_count": 24,
   "metadata": {},
   "outputs": [
    {
     "data": {
      "text/plain": [
       "(600,)"
      ]
     },
     "execution_count": 24,
     "metadata": {},
     "output_type": "execute_result"
    }
   ],
   "source": [
    "y_train.shape"
   ]
  },
  {
   "cell_type": "code",
   "execution_count": 25,
   "metadata": {},
   "outputs": [
    {
     "data": {
      "text/plain": [
       "(400,)"
      ]
     },
     "execution_count": 25,
     "metadata": {},
     "output_type": "execute_result"
    }
   ],
   "source": [
    "y_test.shape"
   ]
  },
  {
   "cell_type": "code",
   "execution_count": 26,
   "metadata": {},
   "outputs": [
    {
     "data": {
      "text/plain": [
       "(600, 11)"
      ]
     },
     "execution_count": 26,
     "metadata": {},
     "output_type": "execute_result"
    }
   ],
   "source": [
    "X_train.shape"
   ]
  },
  {
   "cell_type": "code",
   "execution_count": 27,
   "metadata": {},
   "outputs": [],
   "source": [
    "np.savetxt('X_train', X_train)\n",
    "np.savetxt('X_test', X_test)\n",
    "np.savetxt('y_train', y_train)\n",
    "# np.savetxt('y_test', y_test)"
   ]
  },
  {
   "cell_type": "markdown",
   "metadata": {},
   "source": [
    "## Обучение"
   ]
  },
  {
   "cell_type": "code",
   "execution_count": 28,
   "metadata": {},
   "outputs": [],
   "source": [
    "%run -i regression_fit.py 'X_train' 'y_train' 'regression_model.pkl'"
   ]
  },
  {
   "cell_type": "markdown",
   "metadata": {},
   "source": [
    "## Предсказание"
   ]
  },
  {
   "cell_type": "code",
   "execution_count": 29,
   "metadata": {},
   "outputs": [],
   "source": [
    "%run -i regression_predict.py 'X_test' 'regression_model.pkl'"
   ]
  },
  {
   "cell_type": "code",
   "execution_count": 30,
   "metadata": {},
   "outputs": [],
   "source": [
    "from sklearn.metrics import r2_score"
   ]
  },
  {
   "cell_type": "code",
   "execution_count": 31,
   "metadata": {},
   "outputs": [],
   "source": [
    "y_predicted = np.loadtxt('result.txt')"
   ]
  },
  {
   "cell_type": "code",
   "execution_count": 32,
   "metadata": {},
   "outputs": [
    {
     "name": "stdout",
     "output_type": "stream",
     "text": [
      "R^2 = 1.0\n"
     ]
    }
   ],
   "source": [
    "print('R^2 = {}'.format(r2_score(y_test, y_predicted)))"
   ]
  }
 ],
 "metadata": {
  "kernelspec": {
   "display_name": "Python [default]",
   "language": "python",
   "name": "python3"
  },
  "language_info": {
   "codemirror_mode": {
    "name": "ipython",
    "version": 3
   },
   "file_extension": ".py",
   "mimetype": "text/x-python",
   "name": "python",
   "nbconvert_exporter": "python",
   "pygments_lexer": "ipython3",
   "version": "3.5.5"
  }
 },
 "nbformat": 4,
 "nbformat_minor": 2
}
